{
 "cells": [
  {
   "cell_type": "markdown",
   "metadata": {},
   "source": [
    "# TAREA 2 (23-24) ALGORITMOS EVOLUTIVOS\n",
    "Aarón Medina Melián\n",
    "\n",
    "<p>La distancias entre las ciudades están obtenidas de: https://es.mejoresrutas.com/matrix/custom/DD66C588-B55C-F95C-89C4-76D158D5578C/</p>\n",
    "<p>Para intentar realizarlo lo más realista, se tratan de distancias de conducción entre ciudades en kilómetros.</p>\n",
    "\n",
    "|                  | Las Palmas de GC | Telde | Arucas | Agaete | Mogán |\n",
    "|:----------------:|:----------------:|:-----:|:------:|:------:|:-----:|\n",
    "| Las Palmas de GC | 0                | 20    | 13     | 33     | 83    |\n",
    "| Telde            | 20               | 0     | 26     | 51     | 68    |\n",
    "| Arucas           | 13               | 26    | 0      | 27     | 89    |\n",
    "| Agaete           | 33               | 51    | 27     | 0      | 53    |\n",
    "| Mogán            | 83               | 68    | 89     | 53     | 0     |"
   ]
  },
  {
   "cell_type": "markdown",
   "metadata": {},
   "source": [
    "Importación de las librerías necesarias"
   ]
  },
  {
   "cell_type": "code",
   "execution_count": null,
   "metadata": {},
   "outputs": [],
   "source": [
    "import csv\n",
    "import random\n",
    "import numpy as np"
   ]
  },
  {
   "cell_type": "markdown",
   "metadata": {},
   "source": [
    "Funciones para cargar los csv de distancias y los nombres de las ciudades"
   ]
  },
  {
   "cell_type": "code",
   "execution_count": null,
   "metadata": {},
   "outputs": [],
   "source": [
    "archivo_distancias = 'distancias.csv'\n",
    "\n",
    "distancias = []\n",
    "\n",
    "with open(archivo_distancias, 'r') as archivo_csv:\n",
    "    lector_csv = csv.reader(archivo_csv)\n",
    "    matriz_distancias = []\n",
    "\n",
    "    for fila in lector_csv:\n",
    "        fila_numerica = []\n",
    "        for valor in fila:\n",
    "            valor_numerico = int(valor)\n",
    "            fila_numerica.append(valor_numerico)\n",
    "\n",
    "        distancias.append(fila_numerica)\n",
    "print(distancias)"
   ]
  },
  {
   "cell_type": "code",
   "execution_count": null,
   "metadata": {},
   "outputs": [],
   "source": [
    "archivo_csv = 'ciudades.csv'\n",
    "ciudades = []\n",
    "\n",
    "with open(archivo_csv, 'r', newline='', encoding='utf-8') as file:\n",
    "    csv_reader = csv.reader(file)\n",
    "\n",
    "    row = next(csv_reader)\n",
    "\n",
    "    ciudades.extend(row)\n",
    "print(ciudades)"
   ]
  },
  {
   "cell_type": "markdown",
   "metadata": {},
   "source": [
    "### Función fitness\n",
    "<div>Calcula la distancia total de un recorrido representado por \"poblacion\", utilizando la matriz \"distancias\"</div>\n",
    "<div>que hemos cargado previamente mediante un .csv</div>"
   ]
  },
  {
   "cell_type": "code",
   "execution_count": null,
   "metadata": {},
   "outputs": [],
   "source": [
    "def fitness(poblacion):\n",
    "    distancia_total = 0\n",
    "    for i in range(len(poblacion)-1):\n",
    "        distancia_total += distancias[poblacion[i]][poblacion[i+1]]\n",
    "    distancia_total += distancias[poblacion[len(poblacion)-1]][poblacion[0]]\n",
    "    return distancia_total"
   ]
  },
  {
   "cell_type": "markdown",
   "metadata": {},
   "source": [
    "### Función de mutación\n",
    "<div>Elegimos dos posiciones aleatorias para sustituirlas la población</div>\n",
    "<div>Nos aseguramos que las dos posiciones sean distintas para que se pueda realizar la mutación correctamente</div>\n",
    "<div>Sutituimos una posición por otra</div>"
   ]
  },
  {
   "cell_type": "code",
   "execution_count": null,
   "metadata": {},
   "outputs": [],
   "source": [
    "def mutacion(poblacion):\n",
    "    random_position1 = random.randint(0, len(poblacion)-1)\n",
    "    random_position2 = random.randint(0, len(poblacion)-1)\n",
    "    while random_position1 == random_position2:\n",
    "        random_position2 = random.randint(0, len(poblacion)-1)\n",
    "    poblacion[random_position1], poblacion[random_position2]  = poblacion[random_position2], poblacion[random_position1]\n",
    "    return poblacion"
   ]
  },
  {
   "cell_type": "markdown",
   "metadata": {},
   "source": [
    "### Función de recombinación\n",
    "<div>Primero creamos un nuevo_individuo y vamos recorriendo las poblaciones</div>\n",
    "<div>Utilizamos los índices de la primera población (poblacion1) para seleccionar elementos de la segunda población (poblacion2).</div>"
   ]
  },
  {
   "cell_type": "code",
   "execution_count": null,
   "metadata": {},
   "outputs": [],
   "source": [
    "\n",
    "def recombinacion(poblacion1, poblacion2):\n",
    "    new_poblacion = np.zeros(len(poblacion1), dtype=int)\n",
    "\n",
    "    for i in range(len(poblacion1)):\n",
    "        new_poblacion[i] = poblacion2[poblacion1[i]] \n",
    "    return new_poblacion"
   ]
  },
  {
   "cell_type": "markdown",
   "metadata": {},
   "source": [
    "### Método que busca las mejores poblaciones\n",
    "<div>Busca las M(numero_mejores) mejores poblaciones dada una poblacion</div>\n",
    "<ul>\n",
    "    <li> si el tamaño de poblaciones es igual al número de mejores, devolvemos poblaciones, ya que no se puede buscar mejor numero de poblaciones\n",
    "</ul>"
   ]
  },
  {
   "cell_type": "code",
   "execution_count": null,
   "metadata": {},
   "outputs": [],
   "source": [
    "def buscar_mejores_poblaciones(poblaciones, numero_mejores):\n",
    "    if len(poblaciones) == numero_mejores:\n",
    "        return poblaciones\n",
    "    \n",
    "    if len(poblaciones) < numero_mejores:\n",
    "        raise Exception(\"El número de mejores a seleccionar nunca puede ser menor al número de poblaciones existentes\")\n",
    "        return\n",
    "    \n",
    "    # Calculamos las distancias de todas las poblaciones\n",
    "    fitness_poblaciones = [fitness(individuo) for individuo in poblaciones]\n",
    "    fitness_poblaciones = np.array(fitness_poblaciones)\n",
    "\n",
    "    # Una vez tenemos las distancias de las poblaciones, seleccionamos las mejores distancias\n",
    "    # con np.argpartition que separa los índices teniendo en cuenta las distancias quedándose \n",
    "    # al principio los \"numero_mejores\" indices y dejando detrás los mayores\n",
    "    # IMPORTANTE: No los ordena\n",
    "    mejores_distancias = np.argpartition(fitness_poblaciones, numero_mejores)\n",
    "\n",
    "    # Nos quedamos con las mejores poblaciones quedándonos con las poblaciones\n",
    "    # que pertenecen a los \"numero_mejores\" indices de poblaciones\n",
    "    mejores_poblaciones = poblaciones[mejores_distancias[:numero_mejores]]\n",
    "\n",
    "    return mejores_poblaciones"
   ]
  },
  {
   "cell_type": "markdown",
   "metadata": {},
   "source": [
    "### Función del algoritmo evolutivo \n",
    "<div>Dada unas poblaciones iniciales, buscamos los mejores individuos y los mutamos o recombinamos dependiendo de unas probabilidades</div>\n",
    "<div>proporcionadas por los Hiperpárametros. Si mutamos o recombinamos, no modificamos los individuos existentes, en cambio,</div>\n",
    "<div>ese nuevo individuo lo añadiremos en la siguiente población.</div>\n",
    "<div>Esto lo hacemos para no recombinar o mutar a partir de individuos que ya han sido recombinados o mutados en esta generación.</div>\n",
    "<div>Para reducir la población de la siguiente generación, se ha creado un Hiperapárametro para decidir la manera de selección de los individuos</div>\n",
    "<ul>\n",
    " <li>si es 0: seleccionamos los individuos de manera aleatoria hasta una población de tamaño N (numero_poblaciones)</li>\n",
    " <li>si es 1: seleccionados los mejores individuos hasta una población de tamaño N (numero_poblaciones)</li>\n",
    "</ul>\n",
    "\n"
   ]
  },
  {
   "cell_type": "code",
   "execution_count": null,
   "metadata": {},
   "outputs": [],
   "source": [
    "def algoritmo_evolutivo(poblaciones, numero_poblaciones, probabilidad_mutacion, probabilidad_recombinacion, generaciones, numero_mejores, seleccion):\n",
    "    \n",
    "    for i in range(generaciones):\n",
    "\n",
    "        mejores_poblaciones = buscar_mejores_poblaciones(poblaciones, numero_mejores)\n",
    "\n",
    "        for poblacion in mejores_poblaciones:\n",
    "\n",
    "            # Creamos variables para saber si ha existido recombinación o mutación\n",
    "            recombinado = False\n",
    "            mutado = False\n",
    "\n",
    "            if random.random() <= probabilidad_recombinacion:\n",
    "                new_poblacion = recombinacion(poblacion, random.choice(mejores_poblaciones))\n",
    "                recombinado = True\n",
    "                    \n",
    "            if random.random() <= probabilidad_mutacion:\n",
    "                new_poblacion = mutacion(poblacion)\n",
    "                mutado = True\n",
    "            \n",
    "            # Si ha sido recombinado o mutado, las añadimos a las nuevas_poblaciones\n",
    "            if recombinado or mutado:\n",
    "                poblaciones = np.append(poblaciones, [np.array(new_poblacion, dtype=int)], axis=0)\n",
    "\n",
    "        if seleccion == 0:\n",
    "            np.random.shuffle(poblaciones)\n",
    "            poblaciones = poblaciones[:numero_poblaciones]\n",
    "\n",
    "        if seleccion == 1:\n",
    "            poblaciones = buscar_mejores_poblaciones(poblaciones, numero_poblaciones)\n",
    "        \n",
    "    return min(poblaciones, key=fitness)"
   ]
  },
  {
   "cell_type": "markdown",
   "metadata": {},
   "source": [
    "Hiperparámetros"
   ]
  },
  {
   "cell_type": "code",
   "execution_count": null,
   "metadata": {},
   "outputs": [],
   "source": [
    "numero_poblaciones = 10 # número de poblaciones\n",
    "numero_mejores = int(numero_poblaciones/2) # número de mejores con lo que quedarse\n",
    "probabilidad_recombinacion = 1 # probabilidad de recombinación \n",
    "probabilidad_mutacion = 1 # probabilidad de mutación \n",
    "generaciones = 30 # generaciones\n",
    "seleccion = 1"
   ]
  },
  {
   "cell_type": "code",
   "execution_count": null,
   "metadata": {},
   "outputs": [],
   "source": [
    "poblaciones = [np.random.permutation([0, 1, 2, 3, 4]) for i in range(numero_poblaciones)]\n",
    "poblaciones = np.array(poblaciones)\n",
    "\n",
    "mejor_ruta = algoritmo_evolutivo(poblaciones, numero_poblaciones, probabilidad_mutacion, probabilidad_mutacion, generaciones, numero_mejores, seleccion)\n",
    "\n",
    "print(f'La mejor ruta es {mejor_ruta} que serían {fitness(mejor_ruta)}km')\n",
    "print(\"El reccorido a seguir sería\", [ciudades[i] for i in mejor_ruta])"
   ]
  }
 ],
 "metadata": {
  "kernelspec": {
   "display_name": "Python 3",
   "language": "python",
   "name": "python3"
  },
  "language_info": {
   "codemirror_mode": {
    "name": "ipython",
    "version": 3
   },
   "file_extension": ".py",
   "mimetype": "text/x-python",
   "name": "python",
   "nbconvert_exporter": "python",
   "pygments_lexer": "ipython3",
   "version": "3.11.7"
  }
 },
 "nbformat": 4,
 "nbformat_minor": 2
}
